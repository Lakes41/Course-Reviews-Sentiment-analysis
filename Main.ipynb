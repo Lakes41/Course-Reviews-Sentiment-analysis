{
 "cells": [
  {
   "cell_type": "code",
   "execution_count": 5,
   "id": "ee5a84c0",
   "metadata": {},
   "outputs": [],
   "source": [
    "import pandas as pd\n",
    "import matplotlib.pyplot as plt\n",
    "import seaborn as sns"
   ]
  },
  {
   "cell_type": "code",
   "execution_count": 6,
   "id": "f4bbe49d",
   "metadata": {},
   "outputs": [
    {
     "data": {
      "text/html": [
       "<div>\n",
       "<style scoped>\n",
       "    .dataframe tbody tr th:only-of-type {\n",
       "        vertical-align: middle;\n",
       "    }\n",
       "\n",
       "    .dataframe tbody tr th {\n",
       "        vertical-align: top;\n",
       "    }\n",
       "\n",
       "    .dataframe thead th {\n",
       "        text-align: right;\n",
       "    }\n",
       "</style>\n",
       "<table border=\"1\" class=\"dataframe\">\n",
       "  <thead>\n",
       "    <tr style=\"text-align: right;\">\n",
       "      <th></th>\n",
       "      <th>course_name</th>\n",
       "      <th>lecture_name</th>\n",
       "      <th>review_rating</th>\n",
       "      <th>review_comment</th>\n",
       "    </tr>\n",
       "  </thead>\n",
       "  <tbody>\n",
       "    <tr>\n",
       "      <th>0</th>\n",
       "      <td>A/B Testing in Python</td>\n",
       "      <td>How to set up the A/B test</td>\n",
       "      <td>5</td>\n",
       "      <td>If she could provide more details about the pr...</td>\n",
       "    </tr>\n",
       "    <tr>\n",
       "      <th>1</th>\n",
       "      <td>A/B Testing in Python</td>\n",
       "      <td>How to set up the A/B test</td>\n",
       "      <td>5</td>\n",
       "      <td>nice</td>\n",
       "    </tr>\n",
       "    <tr>\n",
       "      <th>2</th>\n",
       "      <td>A/B Testing in Python</td>\n",
       "      <td>How to set up the A/B test</td>\n",
       "      <td>5</td>\n",
       "      <td>excellent course</td>\n",
       "    </tr>\n",
       "    <tr>\n",
       "      <th>3</th>\n",
       "      <td>A/B Testing in Python</td>\n",
       "      <td>How to set up the A/B test</td>\n",
       "      <td>5</td>\n",
       "      <td>nice</td>\n",
       "    </tr>\n",
       "    <tr>\n",
       "      <th>4</th>\n",
       "      <td>A/B Testing in Python</td>\n",
       "      <td>Conclusion</td>\n",
       "      <td>5</td>\n",
       "      <td>It was an experiential learning process</td>\n",
       "    </tr>\n",
       "    <tr>\n",
       "      <th>...</th>\n",
       "      <td>...</td>\n",
       "      <td>...</td>\n",
       "      <td>...</td>\n",
       "      <td>...</td>\n",
       "    </tr>\n",
       "    <tr>\n",
       "      <th>10837</th>\n",
       "      <td>Working with Text Files in Python</td>\n",
       "      <td>Working with Text Files - Conclusion</td>\n",
       "      <td>5</td>\n",
       "      <td>This course was very informative and had a lot...</td>\n",
       "    </tr>\n",
       "    <tr>\n",
       "      <th>10838</th>\n",
       "      <td>Working with Text Files in Python</td>\n",
       "      <td>Principles of Importing Data in Python</td>\n",
       "      <td>5</td>\n",
       "      <td>On to the point</td>\n",
       "    </tr>\n",
       "    <tr>\n",
       "      <th>10839</th>\n",
       "      <td>Working with Text Files in Python</td>\n",
       "      <td>Principles of Importing Data in Python</td>\n",
       "      <td>5</td>\n",
       "      <td>loving it</td>\n",
       "    </tr>\n",
       "    <tr>\n",
       "      <th>10840</th>\n",
       "      <td>Working with Text Files in Python</td>\n",
       "      <td>Principles of Importing Data in Python</td>\n",
       "      <td>5</td>\n",
       "      <td>Good course</td>\n",
       "    </tr>\n",
       "    <tr>\n",
       "      <th>10841</th>\n",
       "      <td>Working with Text Files in Python</td>\n",
       "      <td>Principles of Importing Data in Python</td>\n",
       "      <td>3</td>\n",
       "      <td>This is too fast!! If it is expected that the ...</td>\n",
       "    </tr>\n",
       "  </tbody>\n",
       "</table>\n",
       "<p>10842 rows × 4 columns</p>\n",
       "</div>"
      ],
      "text/plain": [
       "                             course_name  \\\n",
       "0                  A/B Testing in Python   \n",
       "1                  A/B Testing in Python   \n",
       "2                  A/B Testing in Python   \n",
       "3                  A/B Testing in Python   \n",
       "4                  A/B Testing in Python   \n",
       "...                                  ...   \n",
       "10837  Working with Text Files in Python   \n",
       "10838  Working with Text Files in Python   \n",
       "10839  Working with Text Files in Python   \n",
       "10840  Working with Text Files in Python   \n",
       "10841  Working with Text Files in Python   \n",
       "\n",
       "                                  lecture_name review_rating  \\\n",
       "0                   How to set up the A/B test             5   \n",
       "1                   How to set up the A/B test             5   \n",
       "2                   How to set up the A/B test             5   \n",
       "3                   How to set up the A/B test             5   \n",
       "4                                   Conclusion             5   \n",
       "...                                        ...           ...   \n",
       "10837     Working with Text Files - Conclusion             5   \n",
       "10838  Principles of Importing Data in Python              5   \n",
       "10839  Principles of Importing Data in Python              5   \n",
       "10840  Principles of Importing Data in Python              5   \n",
       "10841  Principles of Importing Data in Python              3   \n",
       "\n",
       "                                          review_comment  \n",
       "0      If she could provide more details about the pr...  \n",
       "1                                                   nice  \n",
       "2                                       excellent course  \n",
       "3                                                   nice  \n",
       "4                It was an experiential learning process  \n",
       "...                                                  ...  \n",
       "10837  This course was very informative and had a lot...  \n",
       "10838                                   On to the point   \n",
       "10839                                          loving it  \n",
       "10840                                        Good course  \n",
       "10841  This is too fast!! If it is expected that the ...  \n",
       "\n",
       "[10842 rows x 4 columns]"
      ]
     },
     "execution_count": 6,
     "metadata": {},
     "output_type": "execute_result"
    }
   ],
   "source": [
    "reviews = pd.read_csv('user_courses_review_09_2023.csv', on_bad_lines='skip')\n",
    "reviews"
   ]
  },
  {
   "cell_type": "code",
   "execution_count": 7,
   "id": "776dce5c",
   "metadata": {},
   "outputs": [
    {
     "name": "stdout",
     "output_type": "stream",
     "text": [
      "<class 'pandas.core.frame.DataFrame'>\n",
      "RangeIndex: 10842 entries, 0 to 10841\n",
      "Data columns (total 4 columns):\n",
      " #   Column          Non-Null Count  Dtype \n",
      "---  ------          --------------  ----- \n",
      " 0   course_name     10842 non-null  object\n",
      " 1   lecture_name    10832 non-null  object\n",
      " 2   review_rating   10828 non-null  object\n",
      " 3   review_comment  10639 non-null  object\n",
      "dtypes: object(4)\n",
      "memory usage: 338.9+ KB\n"
     ]
    }
   ],
   "source": [
    "reviews.info()"
   ]
  },
  {
   "cell_type": "code",
   "execution_count": null,
   "id": "34507e4e",
   "metadata": {},
   "outputs": [
    {
     "data": {
      "text/plain": [
       "array(['5', '4', '3', '2', '1', nan,\n",
       "       \" but I don't like the presenting style. There are visually better videos on this platform\",\n",
       "       ' VLOOKUP',\n",
       "       ' show me the expected output from SQL so I can check my output and troubleshoot before peeking at the code.\"',\n",
       "       ' Bridge round'], dtype=object)"
      ]
     },
     "execution_count": 8,
     "metadata": {},
     "output_type": "execute_result"
    }
   ],
   "source": [
    "# Justs checking for some dirty Columns\n",
    "unique_reviews = reviews['review_rating'].unique()\n",
    "unique_reviews"
   ]
  },
  {
   "cell_type": "code",
   "execution_count": 9,
   "id": "0dd05fa2",
   "metadata": {},
   "outputs": [
    {
     "data": {
      "image/png": "[encoded data removed]",
      "text/plain": [
       "<Figure size 800x600 with 1 Axes>"
      ]
     },
     "metadata": {},
     "output_type": "display_data"
    },
    {
     "data": {
      "text/plain": [
       "count    10824.000000\n",
       "mean         4.840632\n",
       "std          0.525791\n",
       "min          1.000000\n",
       "25%          5.000000\n",
       "50%          5.000000\n",
       "75%          5.000000\n",
       "max          5.000000\n",
       "Name: review_rating, dtype: float64"
      ]
     },
     "execution_count": 9,
     "metadata": {},
     "output_type": "execute_result"
    }
   ],
   "source": [
    "# Prepare review ratings\n",
    "reviews['review_rating'] = pd.to_numeric(reviews['review_rating'], errors='coerce')\n",
    "rating_counts = reviews['review_rating'].value_counts().sort_index()\n",
    "rating_counts.head()\n",
    "\n",
    "# Summary statistics for 'review_rating'\n",
    "review_rating_stats = reviews['review_rating'].describe()\n",
    "\n",
    "# Distribution of 'review_rating'\n",
    "plt.figure(figsize=(8, 6))\n",
    "plt.hist(reviews['review_rating'].dropna(), bins=range(1, 7), align='left', rwidth=0.9, color='skyblue', edgecolor='gray')\n",
    "plt.title('Distribution of Review Ratings')\n",
    "plt.xlabel('Rating')\n",
    "plt.ylabel('Frequency')\n",
    "plt.xticks(range(1, 6))\n",
    "plt.grid(axis='y')\n",
    "plt.show()\n",
    "\n",
    "review_rating_stats"
   ]
  },
  {
   "cell_type": "code",
   "execution_count": 10,
   "id": "93d936a8",
   "metadata": {},
   "outputs": [
    {
     "data": {
      "text/plain": [
       "(10637, 5)"
      ]
     },
     "execution_count": 10,
     "metadata": {},
     "output_type": "execute_result"
    },
    {
     "data": {
      "image/png": "[encoded data removed]",
      "text/plain": [
       "<Figure size 640x480 with 2 Axes>"
      ]
     },
     "metadata": {},
     "output_type": "display_data"
    }
   ],
   "source": [
    "# Remove rows with missing values\n",
    "clean_data = reviews.dropna().reset_index()\n",
    "\n",
    "# Check the new shape of the data\n",
    "new_shape = clean_data.shape\n",
    "\n",
    "# For correlation analysis, we first need to add a new column for the length of the comments\n",
    "clean_data['comment_length'] = clean_data['review_comment'].apply(len)\n",
    "\n",
    "# Calculate the correlation between 'review_rating' and 'comment_length'\n",
    "correlation = clean_data[['review_rating', 'comment_length']].corr()\n",
    "sns.heatmap(correlation, annot=True, cmap='coolwarm', fmt='.2f', square=True, cbar_kws={\"shrink\": .8})\n",
    "new_shape \n"
   ]
  },
  {
   "cell_type": "code",
   "execution_count": 11,
   "id": "36ebbc93",
   "metadata": {},
   "outputs": [
    {
     "data": {
      "text/plain": [
       "{'positive_emphasis': 6147,\n",
       " 'negative_emphasis': 23,\n",
       " 'question': 31,\n",
       " 'exclamation': 1180,\n",
       " 'capital_words': 535}"
      ]
     },
     "execution_count": 11,
     "metadata": {},
     "output_type": "execute_result"
    }
   ],
   "source": [
    "import re\n",
    "\n",
    "# Define regex patterns to look for emphasis and sentiment\n",
    "patterns = {\n",
    "    \"positive_emphasis\": re.compile(r'\\b(great|good|excellent|amazing|love|best|awesome|fantastic)\\b', re.IGNORECASE),\n",
    "    \"negative_emphasis\": re.compile(r'\\b(bad|terrible|awful|poor|worst|hate|disappoint)\\b', re.IGNORECASE),\n",
    "    \"question\": re.compile(r'\\?'),\n",
    "    \"exclamation\": re.compile(r'!'),\n",
    "    \"capital_words\": re.compile(r'\\b[A-Z]{2,}\\b')  # words with all letters capitalized, and at least two characters long\n",
    "}\n",
    "\n",
    "# Initialize a dictionary to hold the counts of each pattern\n",
    "pattern_counts = {key: 0 for key in patterns}\n",
    "\n",
    "# Scan each review and count the occurrences of each pattern\n",
    "for review in clean_data['review_comment']:\n",
    "    for key, pattern in patterns.items():\n",
    "        if re.search(pattern, review):\n",
    "            pattern_counts[key] += 1\n",
    "\n",
    "pattern_counts\n"
   ]
  },
  {
   "cell_type": "code",
   "execution_count": 12,
   "id": "3707d937",
   "metadata": {},
   "outputs": [
    {
     "name": "stdout",
     "output_type": "stream",
     "text": [
      "<class 'pandas.core.frame.DataFrame'>\n",
      "RangeIndex: 10637 entries, 0 to 10636\n",
      "Data columns (total 6 columns):\n",
      " #   Column          Non-Null Count  Dtype  \n",
      "---  ------          --------------  -----  \n",
      " 0   index           10637 non-null  int64  \n",
      " 1   course_name     10637 non-null  object \n",
      " 2   lecture_name    10637 non-null  object \n",
      " 3   review_rating   10637 non-null  float64\n",
      " 4   review_comment  10637 non-null  object \n",
      " 5   comment_length  10637 non-null  int64  \n",
      "dtypes: float64(1), int64(2), object(3)\n",
      "memory usage: 498.7+ KB\n"
     ]
    }
   ],
   "source": [
    "clean_data.info()"
   ]
  },
  {
   "cell_type": "markdown",
   "id": "ecd7b2a7",
   "metadata": {},
   "source": [
    "## Multi-Class Modelling\n"
   ]
  },
  {
   "cell_type": "markdown",
   "id": "b8fcc9cd",
   "metadata": {},
   "source": [
    "### FIist Attempt"
   ]
  },
  {
   "cell_type": "code",
   "execution_count": 13,
   "id": "072e7961",
   "metadata": {},
   "outputs": [],
   "source": [
    "from sklearn.model_selection import train_test_split\n",
    "from sklearn.feature_extraction.text import TfidfVectorizer\n",
    "from sklearn.naive_bayes import MultinomialNB\n",
    "from imblearn.pipeline import Pipeline\n",
    "from sklearn.pipeline import make_pipeline\n",
    "from sklearn.metrics import classification_report, confusion_matrix\n",
    "from imblearn.over_sampling import SMOTE\n",
    "import string\n",
    "\n",
    "# Function for text cleaning and normalization\n",
    "def clean_text(text):\n",
    "    text = text.lower()  # convert text to lowercase\n",
    "    text = text.translate(str.maketrans('', '', string.punctuation))  # remove punctuation\n",
    "    return text\n",
    "\n",
    "# Apply the function to clean the reviews\n",
    "clean_data.loc[:, 'review_comment'] = clean_data.loc[:, 'review_comment'].apply(clean_text)\n",
    "\n",
    "# Split data into features (X) and target label (y)\n",
    "X = clean_data.loc[:, 'review_comment']\n",
    "y = clean_data.loc[:, 'review_rating']\n",
    "\n",
    "# Split the data into training and testing sets\n",
    "X_train, X_test, y_train, y_test = train_test_split(X, y, test_size=0.2, random_state=2025, stratify=y)\n",
    "\n"
   ]
  },
  {
   "cell_type": "code",
   "execution_count": 14,
   "id": "f90b6d2d",
   "metadata": {},
   "outputs": [
    {
     "name": "stdout",
     "output_type": "stream",
     "text": [
      "Classification Report:\n",
      "               precision    recall  f1-score   support\n",
      "\n",
      "         1.0       0.00      0.00      0.00         9\n",
      "         2.0       0.00      0.00      0.00        15\n",
      "         3.0       0.00      0.00      0.00        49\n",
      "         4.0       0.00      0.00      0.00       153\n",
      "         5.0       0.89      1.00      0.94      1902\n",
      "\n",
      "    accuracy                           0.89      2128\n",
      "   macro avg       0.18      0.20      0.19      2128\n",
      "weighted avg       0.80      0.89      0.84      2128\n",
      "\n",
      "Confusion Matrix:\n",
      " [[   0    0    0    0    9]\n",
      " [   0    0    0    0   15]\n",
      " [   0    0    0    0   49]\n",
      " [   0    0    0    0  153]\n",
      " [   0    0    0    0 1902]]\n"
     ]
    },
    {
     "name": "stderr",
     "output_type": "stream",
     "text": [
      "c:\\Users\\useer\\AppData\\Local\\Programs\\Python\\Python312\\Lib\\site-packages\\sklearn\\metrics\\_classification.py:1565: UndefinedMetricWarning: Precision is ill-defined and being set to 0.0 in labels with no predicted samples. Use `zero_division` parameter to control this behavior.\n",
      "  _warn_prf(average, modifier, f\"{metric.capitalize()} is\", len(result))\n",
      "c:\\Users\\useer\\AppData\\Local\\Programs\\Python\\Python312\\Lib\\site-packages\\sklearn\\metrics\\_classification.py:1565: UndefinedMetricWarning: Precision is ill-defined and being set to 0.0 in labels with no predicted samples. Use `zero_division` parameter to control this behavior.\n",
      "  _warn_prf(average, modifier, f\"{metric.capitalize()} is\", len(result))\n",
      "c:\\Users\\useer\\AppData\\Local\\Programs\\Python\\Python312\\Lib\\site-packages\\sklearn\\metrics\\_classification.py:1565: UndefinedMetricWarning: Precision is ill-defined and being set to 0.0 in labels with no predicted samples. Use `zero_division` parameter to control this behavior.\n",
      "  _warn_prf(average, modifier, f\"{metric.capitalize()} is\", len(result))\n"
     ]
    }
   ],
   "source": [
    "# Initialize a TF-IDF Vectorizer\n",
    "vectorizer = TfidfVectorizer(stop_words='english')\n",
    "\n",
    "# Initialize the Multinomial Naive Bayes classifier\n",
    "model = MultinomialNB()\n",
    "\n",
    "# Create a pipeline that first vectorizes the text data then applies the Naive Bayes classifier\n",
    "text_clf = make_pipeline(vectorizer, model)\n",
    "\n",
    "# Fit the model on the training data\n",
    "text_clf.fit(X_train, y_train)\n",
    "\n",
    "# Predict the labels for the test set\n",
    "y_pred = text_clf.predict(X_test)\n",
    "\n",
    "# Evaluate\n",
    "print(\"Classification Report:\\n\", classification_report(y_test, y_pred))\n",
    "print(\"Confusion Matrix:\\n\", confusion_matrix(y_test, y_pred, labels=[1,2,3,4,5]))\n"
   ]
  },
  {
   "cell_type": "markdown",
   "id": "a96c8ec1",
   "metadata": {},
   "source": [
    "### Second Attempt \n",
    "Resampling with Class imbalance in Consideration"
   ]
  },
  {
   "cell_type": "code",
   "execution_count": 15,
   "id": "45011533",
   "metadata": {},
   "outputs": [
    {
     "name": "stdout",
     "output_type": "stream",
     "text": [
      "review_rating\n",
      "5.0    9505\n",
      "4.0     765\n",
      "3.0     245\n",
      "2.0      75\n",
      "1.0      47\n",
      "Name: count, dtype: int64 review_rating\n",
      "5.0    9505\n",
      "4.0    6512\n",
      "3.0    2018\n",
      "2.0     603\n",
      "1.0     372\n",
      "Name: count, dtype: int64\n"
     ]
    }
   ],
   "source": [
    "from sklearn.utils import resample\n",
    "\n",
    "# Separate the majority and minority classes\n",
    "df_majority = clean_data[clean_data.review_rating == 5]\n",
    "df_minority = clean_data[clean_data.review_rating < 5]\n",
    "\n",
    "# Upsample minority class\n",
    "df_minority_upsampled = resample(df_minority, \n",
    "                                 replace=True,     # sample with replacement\n",
    "                                 n_samples=len(df_majority),    # to match majority class\n",
    "                                 random_state=2025) # reproducible results\n",
    "\n",
    "# Combine majority class with upsampled minority class\n",
    "df_upsampled = pd.concat([df_majority, df_minority_upsampled])\n",
    "\n",
    "# Display old and new class counts\n",
    "print(clean_data.review_rating.value_counts(),\n",
    "    df_upsampled.review_rating.value_counts())\n"
   ]
  },
  {
   "cell_type": "code",
   "execution_count": 16,
   "id": "32c6708f",
   "metadata": {},
   "outputs": [
    {
     "name": "stdout",
     "output_type": "stream",
     "text": [
      "              precision    recall  f1-score   support\n",
      "\n",
      "         1.0       1.00      0.27      0.42        89\n",
      "         2.0       1.00      0.32      0.48       123\n",
      "         3.0       0.97      0.59      0.73       377\n",
      "         4.0       0.70      0.66      0.68      1317\n",
      "         5.0       0.76      0.91      0.83      1896\n",
      "\n",
      "    accuracy                           0.76      3802\n",
      "   macro avg       0.88      0.55      0.63      3802\n",
      "weighted avg       0.77      0.76      0.75      3802\n",
      " [[  24    0    4   47   14]\n",
      " [   0   39    3   69   12]\n",
      " [   0    0  222   91   64]\n",
      " [   0    0    0  871  446]\n",
      " [   0    0    1  175 1720]]\n"
     ]
    }
   ],
   "source": [
    "# Split the upsampled data into features (X) and target label (y)\n",
    "X_upsampled = df_upsampled['review_comment']\n",
    "y_upsampled = df_upsampled['review_rating']\n",
    "\n",
    "# Split the upsampled data into training and testing sets\n",
    "X_train_upsampled, X_test_upsampled, y_train_upsampled, y_test_upsampled = train_test_split(\n",
    "    X_upsampled, y_upsampled, test_size=0.2, random_state=42)\n",
    "\n",
    "# Train the model with the upsampled training data\n",
    "text_clf_upsampled = make_pipeline(vectorizer, model)\n",
    "text_clf_upsampled.fit(X_train_upsampled, y_train_upsampled)\n",
    "\n",
    "# Predict the categories of the upsampled test data\n",
    "y_pred_upsampled = text_clf_upsampled.predict(X_test_upsampled)\n",
    "\n",
    "# Calculate the classification report for the upsampled data\n",
    "report_upsampled = classification_report(y_test_upsampled, y_pred_upsampled)\n",
    "\n",
    "# Calculate the confusion matrix for the upsampled data\n",
    "conf_matrix_upsampled = confusion_matrix(y_test_upsampled, y_pred_upsampled)\n",
    "\n",
    "print(report_upsampled , conf_matrix_upsampled)\n"
   ]
  },
  {
   "cell_type": "markdown",
   "id": "955a8180",
   "metadata": {},
   "source": [
    "## Classification Model\n",
    "I decided to convert the problem to a binary one with a 'good' (4-5) or 'bad' (1-3) rating as the individual ratings (1-5) was not the main concern of the project."
   ]
  },
  {
   "cell_type": "markdown",
   "id": "b59463be",
   "metadata": {},
   "source": [
    "### First Attempt\n",
    "Without reagrds to class imbalance"
   ]
  },
  {
   "cell_type": "code",
   "execution_count": 22,
   "id": "b3f0080b",
   "metadata": {},
   "outputs": [
    {
     "name": "stderr",
     "output_type": "stream",
     "text": [
      "c:\\Users\\useer\\AppData\\Local\\Programs\\Python\\Python312\\Lib\\site-packages\\sklearn\\metrics\\_classification.py:1565: UndefinedMetricWarning: Precision is ill-defined and being set to 0.0 in labels with no predicted samples. Use `zero_division` parameter to control this behavior.\n",
      "  _warn_prf(average, modifier, f\"{metric.capitalize()} is\", len(result))\n",
      "c:\\Users\\useer\\AppData\\Local\\Programs\\Python\\Python312\\Lib\\site-packages\\sklearn\\metrics\\_classification.py:1565: UndefinedMetricWarning: Precision is ill-defined and being set to 0.0 in labels with no predicted samples. Use `zero_division` parameter to control this behavior.\n",
      "  _warn_prf(average, modifier, f\"{metric.capitalize()} is\", len(result))\n",
      "c:\\Users\\useer\\AppData\\Local\\Programs\\Python\\Python312\\Lib\\site-packages\\sklearn\\metrics\\_classification.py:1565: UndefinedMetricWarning: Precision is ill-defined and being set to 0.0 in labels with no predicted samples. Use `zero_division` parameter to control this behavior.\n",
      "  _warn_prf(average, modifier, f\"{metric.capitalize()} is\", len(result))\n"
     ]
    },
    {
     "data": {
      "image/png": "[encoded data removed]",
      "text/plain": [
       "<Figure size 600x400 with 2 Axes>"
      ]
     },
     "metadata": {},
     "output_type": "display_data"
    },
    {
     "data": {
      "text/html": [
       "<div>\n",
       "<style scoped>\n",
       "    .dataframe tbody tr th:only-of-type {\n",
       "        vertical-align: middle;\n",
       "    }\n",
       "\n",
       "    .dataframe tbody tr th {\n",
       "        vertical-align: top;\n",
       "    }\n",
       "\n",
       "    .dataframe thead th {\n",
       "        text-align: right;\n",
       "    }\n",
       "</style>\n",
       "<table border=\"1\" class=\"dataframe\">\n",
       "  <thead>\n",
       "    <tr style=\"text-align: right;\">\n",
       "      <th></th>\n",
       "      <th>precision</th>\n",
       "      <th>recall</th>\n",
       "      <th>f1-score</th>\n",
       "      <th>support</th>\n",
       "    </tr>\n",
       "  </thead>\n",
       "  <tbody>\n",
       "    <tr>\n",
       "      <th>bad</th>\n",
       "      <td>0.000000</td>\n",
       "      <td>0.000000</td>\n",
       "      <td>0.000000</td>\n",
       "      <td>83.000000</td>\n",
       "    </tr>\n",
       "    <tr>\n",
       "      <th>good</th>\n",
       "      <td>0.960996</td>\n",
       "      <td>1.000000</td>\n",
       "      <td>0.980110</td>\n",
       "      <td>2045.000000</td>\n",
       "    </tr>\n",
       "    <tr>\n",
       "      <th>accuracy</th>\n",
       "      <td>0.960996</td>\n",
       "      <td>0.960996</td>\n",
       "      <td>0.960996</td>\n",
       "      <td>0.960996</td>\n",
       "    </tr>\n",
       "    <tr>\n",
       "      <th>macro avg</th>\n",
       "      <td>0.480498</td>\n",
       "      <td>0.500000</td>\n",
       "      <td>0.490055</td>\n",
       "      <td>2128.000000</td>\n",
       "    </tr>\n",
       "    <tr>\n",
       "      <th>weighted avg</th>\n",
       "      <td>0.923514</td>\n",
       "      <td>0.960996</td>\n",
       "      <td>0.941882</td>\n",
       "      <td>2128.000000</td>\n",
       "    </tr>\n",
       "  </tbody>\n",
       "</table>\n",
       "</div>"
      ],
      "text/plain": [
       "              precision    recall  f1-score      support\n",
       "bad            0.000000  0.000000  0.000000    83.000000\n",
       "good           0.960996  1.000000  0.980110  2045.000000\n",
       "accuracy       0.960996  0.960996  0.960996     0.960996\n",
       "macro avg      0.480498  0.500000  0.490055  2128.000000\n",
       "weighted avg   0.923514  0.960996  0.941882  2128.000000"
      ]
     },
     "execution_count": 22,
     "metadata": {},
     "output_type": "execute_result"
    }
   ],
   "source": [
    "# Define a function to convert ratings into 'good' and 'bad'\n",
    "def binary_rating(rating):\n",
    "    if rating >= 4:\n",
    "        return 'good'\n",
    "    else:\n",
    "        return 'bad'\n",
    "\n",
    "# Apply the function to the 'review_rating' column\n",
    "binary_data = clean_data.copy()\n",
    "binary_data['review_rating'] = binary_data['review_rating'].apply(binary_rating)\n",
    "\n",
    "# Split data into features (X) and target label (y)\n",
    "X_binary = binary_data['review_comment']\n",
    "y_binary = binary_data['review_rating']\n",
    "\n",
    "# Split the data into training and testing sets\n",
    "X_train_binary, X_test_binary, y_train_binary, y_test_binary = train_test_split(\n",
    "    X_binary, y_binary, test_size=0.2, random_state=2025)\n",
    "\n",
    "# Train the model with the binary training data\n",
    "text_clf_binary = make_pipeline(vectorizer, model)\n",
    "text_clf_binary.fit(X_train_binary, y_train_binary)\n",
    "\n",
    "# Predict the categories of the binary test data\n",
    "y_pred_binary = text_clf_binary.predict(X_test_binary)\n",
    "\n",
    "# Calculate the classification report for the binary data\n",
    "report_binary = classification_report(y_test_binary, y_pred_binary, output_dict=True)\n",
    "\n",
    "# Calculate the confusion matrix for the binary data\n",
    "conf_matrix_binary = confusion_matrix(y_test_binary, y_pred_binary)\n",
    "\n",
    "# Convert classification report to DataFrame for better visualization\n",
    "report_binary_df = pd.DataFrame(report_binary).transpose()\n",
    "\n",
    "# Plot confusion matrix as a heatmap\n",
    "plt.figure(figsize=(6, 4))\n",
    "sns.heatmap(conf_matrix_binary, annot=True, fmt='d', cmap='Blues', \n",
    "            xticklabels=['bad', 'good'], yticklabels=['bad', 'good'])\n",
    "plt.ylabel('Actual')\n",
    "plt.xlabel('Predicted')\n",
    "plt.title('Confusion Matrix')\n",
    "plt.show()\n",
    "\n",
    "report_binary_df\n"
   ]
  },
  {
   "cell_type": "markdown",
   "id": "df749d9a",
   "metadata": {},
   "source": [
    "### Second Attempt \n",
    "Taking class imbalance into consideration. The meansure taken is to resample the minority class (Bad Reviews) to equal the majority class (Good Review)"
   ]
  },
  {
   "cell_type": "code",
   "execution_count": 23,
   "id": "6b143a1f",
   "metadata": {},
   "outputs": [
    {
     "data": {
      "text/plain": [
       "review_rating\n",
       "good    10270\n",
       "bad     10270\n",
       "Name: count, dtype: int64"
      ]
     },
     "execution_count": 23,
     "metadata": {},
     "output_type": "execute_result"
    }
   ],
   "source": [
    "# Separate the majority and minority classes\n",
    "df_majority_binary = binary_data[binary_data.review_rating == 'good']\n",
    "df_minority_binary = binary_data[binary_data.review_rating == 'bad']\n",
    "\n",
    "# Oversample minority class\n",
    "df_minority_upsampled_binary = resample(df_minority_binary, \n",
    "                                        replace=True,     # sample with replacement\n",
    "                                        n_samples=len(df_majority_binary),    # to match majority class\n",
    "                                        random_state=2025) # reproducible results\n",
    "\n",
    "# Combine majority class with upsampled minority class\n",
    "df_upsampled_binary = pd.concat([df_majority_binary, df_minority_upsampled_binary])\n",
    "\n",
    "# Display new class counts\n",
    "df_upsampled_binary.review_rating.value_counts()\n"
   ]
  },
  {
   "cell_type": "code",
   "execution_count": 24,
   "id": "16b5a324",
   "metadata": {},
   "outputs": [
    {
     "data": {
      "image/png": "[encoded data removed]",
      "text/plain": [
       "<Figure size 600x400 with 2 Axes>"
      ]
     },
     "metadata": {},
     "output_type": "display_data"
    },
    {
     "data": {
      "text/html": [
       "<div>\n",
       "<style scoped>\n",
       "    .dataframe tbody tr th:only-of-type {\n",
       "        vertical-align: middle;\n",
       "    }\n",
       "\n",
       "    .dataframe tbody tr th {\n",
       "        vertical-align: top;\n",
       "    }\n",
       "\n",
       "    .dataframe thead th {\n",
       "        text-align: right;\n",
       "    }\n",
       "</style>\n",
       "<table border=\"1\" class=\"dataframe\">\n",
       "  <thead>\n",
       "    <tr style=\"text-align: right;\">\n",
       "      <th></th>\n",
       "      <th>precision</th>\n",
       "      <th>recall</th>\n",
       "      <th>f1-score</th>\n",
       "      <th>support</th>\n",
       "    </tr>\n",
       "  </thead>\n",
       "  <tbody>\n",
       "    <tr>\n",
       "      <th>bad</th>\n",
       "      <td>0.925256</td>\n",
       "      <td>0.916747</td>\n",
       "      <td>0.920982</td>\n",
       "      <td>2066.000000</td>\n",
       "    </tr>\n",
       "    <tr>\n",
       "      <th>good</th>\n",
       "      <td>0.916545</td>\n",
       "      <td>0.925073</td>\n",
       "      <td>0.920790</td>\n",
       "      <td>2042.000000</td>\n",
       "    </tr>\n",
       "    <tr>\n",
       "      <th>accuracy</th>\n",
       "      <td>0.920886</td>\n",
       "      <td>0.920886</td>\n",
       "      <td>0.920886</td>\n",
       "      <td>0.920886</td>\n",
       "    </tr>\n",
       "    <tr>\n",
       "      <th>macro avg</th>\n",
       "      <td>0.920901</td>\n",
       "      <td>0.920910</td>\n",
       "      <td>0.920886</td>\n",
       "      <td>4108.000000</td>\n",
       "    </tr>\n",
       "    <tr>\n",
       "      <th>weighted avg</th>\n",
       "      <td>0.920926</td>\n",
       "      <td>0.920886</td>\n",
       "      <td>0.920887</td>\n",
       "      <td>4108.000000</td>\n",
       "    </tr>\n",
       "  </tbody>\n",
       "</table>\n",
       "</div>"
      ],
      "text/plain": [
       "              precision    recall  f1-score      support\n",
       "bad            0.925256  0.916747  0.920982  2066.000000\n",
       "good           0.916545  0.925073  0.920790  2042.000000\n",
       "accuracy       0.920886  0.920886  0.920886     0.920886\n",
       "macro avg      0.920901  0.920910  0.920886  4108.000000\n",
       "weighted avg   0.920926  0.920886  0.920887  4108.000000"
      ]
     },
     "execution_count": 24,
     "metadata": {},
     "output_type": "execute_result"
    }
   ],
   "source": [
    "# Split the upsampled binary data into features (X) and target label (y)\n",
    "X_upsampled_binary = df_upsampled_binary['review_comment']\n",
    "y_upsampled_binary = df_upsampled_binary['review_rating']\n",
    "\n",
    "# Split the upsampled data into training and testing sets\n",
    "X_train_upsampled_binary, X_test_upsampled_binary, y_train_upsampled_binary, y_test_upsampled_binary = train_test_split(\n",
    "    X_upsampled_binary, y_upsampled_binary, test_size=0.2, random_state=42)\n",
    "\n",
    "# Train the model with the upsampled binary training data\n",
    "text_clf_upsampled_binary = make_pipeline(vectorizer, model)\n",
    "text_clf_upsampled_binary.fit(X_train_upsampled_binary, y_train_upsampled_binary)\n",
    "\n",
    "# Predict the categories of the upsampled binary test data\n",
    "y_pred_upsampled_binary = text_clf_upsampled_binary.predict(X_test_upsampled_binary)\n",
    "\n",
    "# Calculate the classification report for the upsampled binary data\n",
    "report_upsampled_binary = classification_report(y_test_upsampled_binary, y_pred_upsampled_binary, output_dict=True)\n",
    "\n",
    "# Calculate the confusion matrix for the upsampled binary data\n",
    "conf_matrix_upsampled_binary = confusion_matrix(y_test_upsampled_binary, y_pred_upsampled_binary)\n",
    "\n",
    "# Convert classification report to DataFrame for better visualization\n",
    "report_upsampled_binary_df = pd.DataFrame(report_upsampled_binary).transpose()\n",
    "\n",
    "# Plot confusion matrix as a heatmap\n",
    "plt.figure(figsize=(6, 4))\n",
    "sns.heatmap(conf_matrix_upsampled_binary, annot=True, fmt='d', cmap='Blues', \n",
    "            xticklabels=['bad', 'good'], yticklabels=['bad', 'good'])\n",
    "plt.ylabel('Actual')\n",
    "plt.xlabel('Predicted')\n",
    "plt.title('Confusion Matrix')\n",
    "plt.show()\n",
    "\n",
    "report_upsampled_binary_df\n"
   ]
  },
  {
   "cell_type": "markdown",
   "id": "200ccd43",
   "metadata": {},
   "source": [
    "## Model Testing \n",
    "With Validation Dataset"
   ]
  },
  {
   "cell_type": "code",
   "execution_count": 27,
   "id": "074b57da",
   "metadata": {},
   "outputs": [
    {
     "name": "stderr",
     "output_type": "stream",
     "text": [
      "C:\\Users\\useer\\AppData\\Local\\Temp\\ipykernel_11892\\1832614585.py:8: SettingWithCopyWarning: \n",
      "A value is trying to be set on a copy of a slice from a DataFrame.\n",
      "Try using .loc[row_indexer,col_indexer] = value instead\n",
      "\n",
      "See the caveats in the documentation: https://pandas.pydata.org/pandas-docs/stable/user_guide/indexing.html#returning-a-view-versus-a-copy\n",
      "  test_set_clean['review_rating'] = pd.to_numeric(test_set_clean['review_rating'], errors='coerce')\n"
     ]
    },
    {
     "data": {
      "text/html": [
       "<div>\n",
       "<style scoped>\n",
       "    .dataframe tbody tr th:only-of-type {\n",
       "        vertical-align: middle;\n",
       "    }\n",
       "\n",
       "    .dataframe tbody tr th {\n",
       "        vertical-align: top;\n",
       "    }\n",
       "\n",
       "    .dataframe thead th {\n",
       "        text-align: right;\n",
       "    }\n",
       "</style>\n",
       "<table border=\"1\" class=\"dataframe\">\n",
       "  <thead>\n",
       "    <tr style=\"text-align: right;\">\n",
       "      <th></th>\n",
       "      <th>course_name</th>\n",
       "      <th>lecture_name</th>\n",
       "      <th>review_rating</th>\n",
       "      <th>review_comment</th>\n",
       "    </tr>\n",
       "  </thead>\n",
       "  <tbody>\n",
       "    <tr>\n",
       "      <th>0</th>\n",
       "      <td>Advanced Microsoft Excel</td>\n",
       "      <td>F1 to F12 - Using Excel's Function Keys</td>\n",
       "      <td>good</td>\n",
       "      <td>perfect</td>\n",
       "    </tr>\n",
       "    <tr>\n",
       "      <th>1</th>\n",
       "      <td>Agile and Scrum Project Management</td>\n",
       "      <td>Agile vs Waterfall - Conclusions</td>\n",
       "      <td>bad</td>\n",
       "      <td>the scrum chapter are full of errors</td>\n",
       "    </tr>\n",
       "    <tr>\n",
       "      <th>2</th>\n",
       "      <td>AI Applications for Business Success</td>\n",
       "      <td>Correlation vs. Causation</td>\n",
       "      <td>bad</td>\n",
       "      <td>bad quality of audio and narrative</td>\n",
       "    </tr>\n",
       "    <tr>\n",
       "      <th>3</th>\n",
       "      <td>AI Applications for Business Success</td>\n",
       "      <td>Correlation vs. Causation</td>\n",
       "      <td>bad</td>\n",
       "      <td>i need documentation about lecture</td>\n",
       "    </tr>\n",
       "    <tr>\n",
       "      <th>4</th>\n",
       "      <td>Building a 3-Statement Model in Excel</td>\n",
       "      <td>Calculating Cash Flows and Completing the Mode...</td>\n",
       "      <td>good</td>\n",
       "      <td>great course ned has a talent for explaining t...</td>\n",
       "    </tr>\n",
       "  </tbody>\n",
       "</table>\n",
       "</div>"
      ],
      "text/plain": [
       "                             course_name  \\\n",
       "0               Advanced Microsoft Excel   \n",
       "1     Agile and Scrum Project Management   \n",
       "2   AI Applications for Business Success   \n",
       "3   AI Applications for Business Success   \n",
       "4  Building a 3-Statement Model in Excel   \n",
       "\n",
       "                                        lecture_name review_rating  \\\n",
       "0            F1 to F12 - Using Excel's Function Keys          good   \n",
       "1                   Agile vs Waterfall - Conclusions           bad   \n",
       "2                          Correlation vs. Causation           bad   \n",
       "3                          Correlation vs. Causation           bad   \n",
       "4  Calculating Cash Flows and Completing the Mode...          good   \n",
       "\n",
       "                                      review_comment  \n",
       "0                                           perfect   \n",
       "1               the scrum chapter are full of errors  \n",
       "2                bad quality of audio and narrative   \n",
       "3                 i need documentation about lecture  \n",
       "4  great course ned has a talent for explaining t...  "
      ]
     },
     "execution_count": 27,
     "metadata": {},
     "output_type": "execute_result"
    }
   ],
   "source": [
    "# Load the test set, handling bad lines\n",
    "test_set = pd.read_csv('user_courses_review_test_set.csv', on_bad_lines='skip')\n",
    "\n",
    "# Remove rows with missing 'review_comment' or 'review_rating'\n",
    "test_set_clean = test_set.dropna(subset=['review_comment', 'review_rating'])\n",
    "\n",
    "# Convert 'review_rating' to float and handle potential conversion issues\n",
    "test_set_clean['review_rating'] = pd.to_numeric(test_set_clean['review_rating'], errors='coerce')\n",
    "\n",
    "# Check for any 'NaN' in 'review_rating' after conversion and remove those rows\n",
    "test_set_clean = test_set_clean.dropna(subset=['review_rating'])\n",
    "\n",
    "# Clean the 'review_comment' texts\n",
    "test_set_clean['review_comment'] = test_set_clean['review_comment'].apply(clean_text)\n",
    "\n",
    "# Apply the 'binary_rating' function to categorize 'review_rating'\n",
    "test_set_clean['review_rating'] = test_set_clean['review_rating'].apply(binary_rating)\n",
    "\n",
    "# Ensure the preprocessing steps have been successfully applied\n",
    "test_set_clean.head()\n"
   ]
  },
  {
   "cell_type": "code",
   "execution_count": 29,
   "id": "f6dc2b9f",
   "metadata": {},
   "outputs": [
    {
     "data": {
      "image/png": "[encoded data removed]",
      "text/plain": [
       "<Figure size 600x400 with 2 Axes>"
      ]
     },
     "metadata": {},
     "output_type": "display_data"
    },
    {
     "data": {
      "text/html": [
       "<div>\n",
       "<style scoped>\n",
       "    .dataframe tbody tr th:only-of-type {\n",
       "        vertical-align: middle;\n",
       "    }\n",
       "\n",
       "    .dataframe tbody tr th {\n",
       "        vertical-align: top;\n",
       "    }\n",
       "\n",
       "    .dataframe thead th {\n",
       "        text-align: right;\n",
       "    }\n",
       "</style>\n",
       "<table border=\"1\" class=\"dataframe\">\n",
       "  <thead>\n",
       "    <tr style=\"text-align: right;\">\n",
       "      <th></th>\n",
       "      <th>precision</th>\n",
       "      <th>recall</th>\n",
       "      <th>f1-score</th>\n",
       "      <th>support</th>\n",
       "    </tr>\n",
       "  </thead>\n",
       "  <tbody>\n",
       "    <tr>\n",
       "      <th>bad</th>\n",
       "      <td>0.312500</td>\n",
       "      <td>0.769231</td>\n",
       "      <td>0.444444</td>\n",
       "      <td>13.000000</td>\n",
       "    </tr>\n",
       "    <tr>\n",
       "      <th>good</th>\n",
       "      <td>0.974576</td>\n",
       "      <td>0.839416</td>\n",
       "      <td>0.901961</td>\n",
       "      <td>137.000000</td>\n",
       "    </tr>\n",
       "    <tr>\n",
       "      <th>accuracy</th>\n",
       "      <td>0.833333</td>\n",
       "      <td>0.833333</td>\n",
       "      <td>0.833333</td>\n",
       "      <td>0.833333</td>\n",
       "    </tr>\n",
       "    <tr>\n",
       "      <th>macro avg</th>\n",
       "      <td>0.643538</td>\n",
       "      <td>0.804323</td>\n",
       "      <td>0.673203</td>\n",
       "      <td>150.000000</td>\n",
       "    </tr>\n",
       "    <tr>\n",
       "      <th>weighted avg</th>\n",
       "      <td>0.917196</td>\n",
       "      <td>0.833333</td>\n",
       "      <td>0.862309</td>\n",
       "      <td>150.000000</td>\n",
       "    </tr>\n",
       "  </tbody>\n",
       "</table>\n",
       "</div>"
      ],
      "text/plain": [
       "              precision    recall  f1-score     support\n",
       "bad            0.312500  0.769231  0.444444   13.000000\n",
       "good           0.974576  0.839416  0.901961  137.000000\n",
       "accuracy       0.833333  0.833333  0.833333    0.833333\n",
       "macro avg      0.643538  0.804323  0.673203  150.000000\n",
       "weighted avg   0.917196  0.833333  0.862309  150.000000"
      ]
     },
     "execution_count": 29,
     "metadata": {},
     "output_type": "execute_result"
    }
   ],
   "source": [
    "# Prepare the features and labels from the cleaned test set for model application\n",
    "X_test_set_clean = test_set_clean['review_comment']\n",
    "y_test_set_clean = test_set_clean['review_rating']\n",
    "\n",
    "# Use the trained model to predict the sentiments of the reviews in the cleaned test set\n",
    "y_pred_test_set_clean = text_clf_upsampled_binary.predict(X_test_set_clean)\n",
    "\n",
    "# Calculate the classification report for the cleaned test set predictions\n",
    "report_test_set_clean = classification_report(y_test_set_clean, y_pred_test_set_clean, output_dict=True)\n",
    "\n",
    "# Calculate the confusion matrix for the cleaned test set predictions\n",
    "conf_matrix_test_set_clean = confusion_matrix(y_test_set_clean, y_pred_test_set_clean)\n",
    "\n",
    "# Convert classification report to DataFrame for better visualization\n",
    "report_test_set_clean_df = pd.DataFrame(report_test_set_clean).transpose()\n",
    "\n",
    "# Plot confusion matrix as a heatmap\n",
    "plt.figure(figsize=(6, 4))\n",
    "sns.heatmap(conf_matrix_test_set_clean, annot=True, fmt='d', cmap='Blues', \n",
    "            xticklabels=['bad', 'good'], yticklabels=['bad', 'good'])\n",
    "plt.ylabel('Actual')\n",
    "plt.xlabel('Predicted')\n",
    "plt.title('Confusion Matrix')\n",
    "plt.show()\n",
    "\n",
    "report_test_set_clean_df"
   ]
  }
 ],
 "metadata": {
  "kernelspec": {
   "display_name": "Python 3",
   "language": "python",
   "name": "python3"
  },
  "language_info": {
   "codemirror_mode": {
    "name": "ipython",
    "version": 3
   },
   "file_extension": ".py",
   "mimetype": "text/x-python",
   "name": "python",
   "nbconvert_exporter": "python",
   "pygments_lexer": "ipython3",
   "version": "3.12.8"
  }
 },
 "nbformat": 4,
 "nbformat_minor": 5
}
